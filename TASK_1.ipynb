{
  "nbformat": 4,
  "nbformat_minor": 0,
  "metadata": {
    "colab": {
      "provenance": []
    },
    "kernelspec": {
      "name": "python3",
      "display_name": "Python 3"
    },
    "language_info": {
      "name": "python"
    }
  },
  "cells": [
    {
      "cell_type": "code",
      "source": [
        "import pandas as pd\n",
        "\n",
        "raw_path = \"/content/marketing_campaign.csv\"\n",
        "\n",
        "# Read raw lines, strip outer quotes, split on tab\n",
        "with open(raw_path, \"r\", encoding=\"utf-8\", errors=\"ignore\") as f:\n",
        "    lines = [line.strip().strip('\"') for line in f]\n",
        "\n",
        "# Split into fields\n",
        "rows = [[field.strip() for field in line.split(\"\\t\")] for line in lines]\n",
        "\n",
        "# Build DataFrame\n",
        "header = rows[0]\n",
        "data = rows[1:]\n",
        "df = pd.DataFrame(data, columns=header)\n"
      ],
      "metadata": {
        "id": "nv4bTc75jroS"
      },
      "execution_count": 18,
      "outputs": []
    },
    {
      "cell_type": "markdown",
      "source": [
        "Standardize column header"
      ],
      "metadata": {
        "id": "8nDi5PzTngku"
      }
    },
    {
      "cell_type": "code",
      "source": [
        "df.columns = (\n",
        "    df.columns\n",
        "    .str.strip()\n",
        "    .str.lower()\n",
        "    .str.replace(\" \", \"_\", regex=False)\n",
        "    .str.replace(\"-\", \"_\", regex=False)\n",
        ")\n"
      ],
      "metadata": {
        "id": "TGYJEQ0gj3Fe"
      },
      "execution_count": 19,
      "outputs": []
    },
    {
      "cell_type": "markdown",
      "source": [
        "Convert Data types"
      ],
      "metadata": {
        "id": "N2NGy84Rnw9s"
      }
    },
    {
      "cell_type": "code",
      "source": [
        "df[\"dt_customer\"] = pd.to_datetime(df[\"dt_customer\"], format=\"%d-%m-%Y\", errors=\"coerce\")"
      ],
      "metadata": {
        "id": "8JwdCBhMj5rK"
      },
      "execution_count": 20,
      "outputs": []
    },
    {
      "cell_type": "code",
      "source": [
        "for col in df.columns:\n",
        "    if col not in (\"education\", \"marital_status\", \"dt_customer\"):\n",
        "        df[col] = pd.to_numeric(\n",
        "            df[col].astype(str)\n",
        "                 .str.replace(\",\", \"\", regex=False)\n",
        "                 .str.replace(\"$\", \"\", regex=False),\n",
        "            errors=\"coerce\"\n",
        "        )"
      ],
      "metadata": {
        "id": "tPRJBgb0kFEF"
      },
      "execution_count": 21,
      "outputs": []
    },
    {
      "cell_type": "markdown",
      "source": [
        "Handling missing values"
      ],
      "metadata": {
        "id": "p8KfgNPdn3Id"
      }
    },
    {
      "cell_type": "code",
      "source": [
        "for col in df.columns:\n",
        "    if df[col].isna().sum() == 0:\n",
        "        continue\n",
        "    if pd.api.types.is_numeric_dtype(df[col]):\n",
        "        df[col] = df[col].fillna(df[col].median())\n",
        "    elif pd.api.types.is_datetime64_any_dtype(df[col]):\n",
        "        # optional: df[col] = df[col].fillna(df[col].mode()[0]) or leave\n",
        "        pass\n",
        "    else:\n",
        "        df[col] = df[col].fillna(df[col].mode().iloc[0])"
      ],
      "metadata": {
        "id": "-7zxrkBgkKZJ"
      },
      "execution_count": 22,
      "outputs": []
    },
    {
      "cell_type": "markdown",
      "source": [
        "Remove duplicates"
      ],
      "metadata": {
        "id": "_qJuyU6Mn8pz"
      }
    },
    {
      "cell_type": "code",
      "source": [
        "df = df.drop_duplicates()"
      ],
      "metadata": {
        "id": "UOkPCYsbkQUG"
      },
      "execution_count": 23,
      "outputs": []
    },
    {
      "cell_type": "markdown",
      "source": [
        "Standardize text fields"
      ],
      "metadata": {
        "id": "uO-SaZYQoAj2"
      }
    },
    {
      "cell_type": "code",
      "source": [
        "df[\"education\"] = df[\"education\"].str.strip().str.lower()\n",
        "df[\"marital_status\"] = df[\"marital_status\"].str.strip().str.lower()\n"
      ],
      "metadata": {
        "id": "pcdYAG7RkRjS"
      },
      "execution_count": 24,
      "outputs": []
    },
    {
      "cell_type": "markdown",
      "source": [
        "Final check"
      ],
      "metadata": {
        "id": "f64sYfMEoPkh"
      }
    },
    {
      "cell_type": "code",
      "source": [
        "print(df.shape)\n",
        "print(df.isnull().sum())\n",
        "print(df.duplicated().sum())"
      ],
      "metadata": {
        "colab": {
          "base_uri": "https://localhost:8080/"
        },
        "id": "lmTJAIzzkXO-",
        "outputId": "0b286698-8b01-451f-b847-59831c96eb6f"
      },
      "execution_count": 25,
      "outputs": [
        {
          "output_type": "stream",
          "name": "stdout",
          "text": [
            "(2240, 29)\n",
            "id                     0\n",
            "year_birth             0\n",
            "education              0\n",
            "marital_status         0\n",
            "income                 0\n",
            "kidhome                0\n",
            "teenhome               0\n",
            "dt_customer            0\n",
            "recency                0\n",
            "mntwines               0\n",
            "mntfruits              0\n",
            "mntmeatproducts        0\n",
            "mntfishproducts        0\n",
            "mntsweetproducts       0\n",
            "mntgoldprods           0\n",
            "numdealspurchases      0\n",
            "numwebpurchases        0\n",
            "numcatalogpurchases    0\n",
            "numstorepurchases      0\n",
            "numwebvisitsmonth      0\n",
            "acceptedcmp3           0\n",
            "acceptedcmp4           0\n",
            "acceptedcmp5           0\n",
            "acceptedcmp1           0\n",
            "acceptedcmp2           0\n",
            "complain               0\n",
            "z_costcontact          0\n",
            "z_revenue              0\n",
            "response               0\n",
            "dtype: int64\n",
            "0\n"
          ]
        }
      ]
    },
    {
      "cell_type": "markdown",
      "source": [
        "Save cleaned datset"
      ],
      "metadata": {
        "id": "mDpP_3BPoZjC"
      }
    },
    {
      "cell_type": "code",
      "source": [
        "df.to_csv(\"/content/marketing_campaign_clean.csv\", index=False)\n"
      ],
      "metadata": {
        "id": "yvRkrWd0kak3"
      },
      "execution_count": 30,
      "outputs": []
    },
    {
      "cell_type": "code",
      "source": [],
      "metadata": {
        "id": "dLktgd2mkqfH"
      },
      "execution_count": null,
      "outputs": []
    }
  ]
}